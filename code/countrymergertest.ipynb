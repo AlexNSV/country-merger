{
 "cells": [
  {
   "cell_type": "code",
   "execution_count": 210,
   "id": "f8ca80f7-cc2d-4806-bab5-bafcd394008b",
   "metadata": {},
   "outputs": [],
   "source": [
    "from countrymerger import *\n",
    "import pandas as pd\n",
    "import numpy as np\n",
    "import warnings\n",
    "from datetime import date\n",
    "\n",
    "def convert_country_df(data: pd.DataFrame, data_id_col: str, separator: str = None, standard_to_convert: str = \"STATE_en_UN\", warning = True):\n",
    "    \"\"\" Function to convert a series of country ids to a different standard\n",
    "\n",
    "    ---\n",
    "    Parameters:\n",
    "        data (Pandas.DataFrame): Data with country identifiers\n",
    "        data_id_col (str) : Country id column name\n",
    "        separator (str): separator of country identifiers in a cell (can be string or None)\n",
    "        standard_to_convert (str): standard to convert to from the list pf supported standrds, to see the list consult countrymerger.KEY_COLUMNS. Default is STATE_EN_UN for UN standard country names (http://unterm.un.org).\n",
    "        warning (bool): issue warnings when unable to idntify country id.\n",
    "\n",
    "    ---\n",
    "    Returns:\n",
    "        converted_country_series (Pandas.Series): country_series in a new format\n",
    "    \"\"\"\n",
    "    replacement_dict = get_id_dict(data[data_id_col], separator, standard_to_convert, warning)\n",
    "    data_replaced = data.copy()\n",
    "    for i in replacement_dict.items():\n",
    "        #print(i[0], i[1])\n",
    "        data_replaced[data_id_col] = data_replaced[data_id_col].apply(lambda x: str(x).replace(str(i[0]),str(i[1])))\n",
    "    return data_replaced\n",
    "\n",
    "\n",
    "def get_id_set(country_series: pd.Series, separator: str = None):\n",
    "    \"\"\"Returns a set of countries from a series of country ids (possibly with separators)\n",
    "    \"\"\"\n",
    "    def _add_to_country_list(country_list, country_ids, separator):\n",
    "        if pd.isna(country_ids): return None\n",
    "        country_ids = str(country_ids)\n",
    "        #print(country_ids)\n",
    "        if separator is None:\n",
    "            country_list += [country_ids.strip()]\n",
    "        elif separator in country_ids:\n",
    "            #print([country_id.strip() for country_id in country_ids.split(separator)])\n",
    "            country_list += [country_id.strip() for country_id in country_ids.split(separator)]\n",
    "        else:\n",
    "            #print(country_ids.strip())\n",
    "            country_list += [country_ids.strip()]\n",
    "    country_list = list()\n",
    "    country_series.apply(lambda x: _add_to_country_list(country_list, x, separator))\n",
    "    #print(country_list)\n",
    "    country_set = set(country_list)\n",
    "    return country_set\n",
    "\n",
    "def get_id_dict(country_series: pd.Series, separator: str, standard_to_convert: str = \"STATE_en_UN\", warning = True):\n",
    "    \"\"\"Returns a dict of old country ids and new ones\n",
    "    from a series of country ids (possibly with separators)\n",
    "    \"\"\"\n",
    "    country_set = get_id_set(country_series, separator)\n",
    "\n",
    "    keys_df = loadKeyDf(load_extra=True)\n",
    "    converting_x = keys_df.columns.get_loc(standard_to_convert)\n",
    "    keys = keys_df.values\n",
    "    keys_lower = keys_df.applymap(lambda s: s.lower() if type(s) == str else s)\n",
    "    conversion_dict = {}\n",
    "    \n",
    "    for country in country_set:\n",
    "        country_lower = country.lower()\n",
    "        try:\n",
    "            i = np.where(keys_lower == country_lower)[0][0]\n",
    "            country_converted = keys[i, converting_x]\n",
    "            conversion_dict[country] = country_converted\n",
    "        except IndexError:\n",
    "            if warning: warnings.warn(f\"Unknown identifier {country}, keeping as is\")\n",
    "            conversion_dict[country] = country # currently not supporting purging unknpwn identifiers\n",
    "    return conversion_dict"
   ]
  },
  {
   "cell_type": "code",
   "execution_count": 211,
   "id": "3b2f2193-d8f1-47ce-9722-a70a8c20af71",
   "metadata": {},
   "outputs": [],
   "source": [
    "df = pd.read_csv(\"../data_in/int_law - security_council.csv\")\n",
    "df_converted = convert_country_df(df, 'Country', '||', \"COW_Country_Code\")"
   ]
  },
  {
   "cell_type": "code",
   "execution_count": 212,
   "id": "7214aff6-2744-45ff-8f41-f7efc4e9f4b5",
   "metadata": {},
   "outputs": [],
   "source": [
    "df_converted['Date'] = pd.to_datetime(df_converted['Date'])"
   ]
  },
  {
   "cell_type": "code",
   "execution_count": 335,
   "id": "9eff2817-7ae6-45fc-9b09-2166a8bc7585",
   "metadata": {
    "scrolled": true
   },
   "outputs": [],
   "source": [
    "def get_undoc_type(elems, meeting_record, type_identifier=\"RES/\", return_nontype=False):\n",
    "    \"\"\"returns a list of document URLs by URL str identifier\"\"\"\n",
    "    if pd.isna(elems): return np.nan\n",
    "    elem_list = separate_elems(str(elems), \"||\")\n",
    "    correct_type = []\n",
    "    for elem in elem_list:\n",
    "        if type_identifier in elem:\n",
    "            if not return_nontype:\n",
    "                if type_identifier == \"/S/RES/\":\n",
    "                    correct_type += elem.replace(\" (\", \"(\"), #fixing URLs\n",
    "                else:    \n",
    "                    correct_type += elem,\n",
    "        else:\n",
    "            if return_nontype:\n",
    "                correct_type += elem,\n",
    "            else:\n",
    "                # special treatment of non-adopted res\n",
    "                if type_identifier == \"/S/RES/\":\n",
    "                    if (\"/S/20\" in elem) or (\"/S/19\" in elem):\n",
    "                        correct_type = correct_type + [elem + f\" (NOT ADOPTED, consult meeting record: {meeting_record})\"]\n",
    "                # special treatment of 1992 press releases / notes\n",
    "                if type_identifier == \"/S/PRST/\":\n",
    "                    if ((\"/S/23\" in elem) or (\"/S/24\" in elem)) and (\"/S/RES/\" not in elem):\n",
    "                        #print(f\"fix {elem}\")\n",
    "                        correct_type += elem,\n",
    "    if len(correct_type) == 0:\n",
    "        return np.nan\n",
    "    else:\n",
    "        return \" || \".join(correct_type)\n",
    "\n",
    "df_converted['URL Press Statement'] = df_converted.apply(lambda x: get_undoc_type(x['URL Security Council Outcome / Vote'], x['URL Meeting Record'],\"/S/PRST/\"), axis=1)\n",
    "df_converted['URL Resolution'] = df_converted.apply(lambda x: get_undoc_type(x['URL Security Council Outcome / Vote'], x['URL Meeting Record'],\"/S/RES/\"), axis=1)\n"
   ]
  },
  {
   "cell_type": "code",
   "execution_count": 360,
   "id": "f2ee38a7-1879-4fd2-a324-2a8400f91432",
   "metadata": {},
   "outputs": [],
   "source": [
    "def separate_elems(elems: str, separator: str):\n",
    "    \"\"\"Separates elements of a string with a separator, returning a list of individual elements\"\"\"\n",
    "    separated_list = list()\n",
    "    if separator is None:\n",
    "        separated_list = [elems.strip()]\n",
    "    elif separator in elems:\n",
    "        separated_list = [elem.strip() for elem in elems.split(separator)]\n",
    "    else:\n",
    "        separated_list = [elems.strip()]\n",
    "    return separated_list\n",
    "\n",
    "\n",
    "def map_data(df_master, df_slave, col_master_id, col_slave_id, col_master_data, col_slave_data,\n",
    "             col_master_year, col_master_month, col_slave_date,\n",
    "             separator_res, separator_master=None, separator_slave=None):\n",
    "    \"\"\"Map data from one df to another with support to multiple idenrifiers with separators\n",
    "    \"\"\"\n",
    "    def _values_for_master_ids(id_master, df_slave, col_slave_id, col_slave_data, \n",
    "                               date_master, col_slave_date, separator_master, separator_slave):\n",
    "        \"\"\"Replace a set of master ids for slave values\"\"\"\n",
    "\n",
    "        #df_slave[col_slave_year] = pd.to_numeric(df_slave[col_slave_year])\n",
    "        #year_master = int(year_master)\n",
    "        \n",
    "        ids_master = separate_elems(id_master, separator_master)\n",
    "\n",
    "        documents = []\n",
    "        for i, id_master_single in enumerate(ids_master):\n",
    "            data = df_slave[df_slave[col_slave_id].str.contains(id_master_single)]\n",
    "            data['delta_days'] = data[col_slave_date].apply(lambda x: abs((x.date() - date_master).days))\n",
    "            if data.shape[0]>0:\n",
    "                data = data[data['delta_days']<360]\n",
    "            #if id_master_single == '404': print(data)\n",
    "            if data[col_slave_data].dropna().shape[0]>0:\n",
    "                data_temp = data[data['delta_days']<180]\n",
    "                if data_temp[col_slave_data].dropna().shape[0]>0:\n",
    "                    data = data_temp\n",
    "                    data_temp = data[data['delta_days']<90]\n",
    "                    if data_temp[col_slave_data].dropna().shape[0]>0:\n",
    "                        data = data_temp\n",
    "                        data_temp = data[data['delta_days']<30]\n",
    "                        if data_temp[col_slave_data].dropna().shape[0]>0:\n",
    "                            data = data_temp\n",
    "                            data_temp = data[data['delta_days']<20]\n",
    "                            if data_temp[col_slave_data].dropna().shape[0]>0:\n",
    "                                data = data_temp\n",
    "            #print(id_master)\n",
    "            #print(data[col_slave_data].values)\n",
    "            if len(data[col_slave_data].dropna().values) != 0:\n",
    "                documents += list(data[col_slave_data].dropna().values)\n",
    "        #print(documents)\n",
    "        values = (separator_res.join(documents))\n",
    "        #if id_master_single == '404': \n",
    "        #    print(\"------\\n\")\n",
    "        #    print(values)\n",
    "        #    print(\"---END----\")\n",
    "        #print(values)\n",
    "        return values\n",
    "\n",
    "    df_master['Date'] = df_master.apply(lambda x: date(int(x[col_master_year]), int(x[col_master_month]), 15), axis=1)\n",
    "    #print(df_master['Date'])\n",
    "    df_master[col_master_data] = df_master.apply(lambda x: _values_for_master_ids(x[col_master_id], df_slave, col_slave_id, col_slave_data, \n",
    "                                                                                                 x['Date'], col_slave_date, \n",
    "                                                                                                 separator_master, separator_slave),\n",
    "                                                axis = 1)\n",
    "    return df_master"
   ]
  },
  {
   "cell_type": "code",
   "execution_count": 361,
   "id": "ac32252e-c21d-4650-885c-10cd7d07ef8e",
   "metadata": {
    "scrolled": true
   },
   "outputs": [],
   "source": [
    "law_df = pd.read_csv(\"../data_in/int_law - law_dyad.csv\").dropna(subset=['old_id'])\n",
    "law_df = map_data(df_master=law_df, df_slave=df_converted, col_master_id='refobject_ccode', col_slave_id='Country', \n",
    "         col_master_data='source_unsc_transcript', col_slave_data='URL Meeting Record',\n",
    "         col_master_year='year_start', col_master_month='month_start', col_slave_date='Date',\n",
    "                      separator_res=' || ', separator_master= ';', separator_slave='||')\n",
    "law_df = map_data(df_master=law_df, df_slave=df_converted, col_master_id='refobject_ccode', col_slave_id='Country', \n",
    "         col_master_data='source_unsc_resolution', col_slave_data='URL Resolution',\n",
    "         col_master_year='year_start', col_master_month='month_start', col_slave_date='Date',\n",
    "                      separator_res=' || ', separator_master= ';', separator_slave='||')\n",
    "law_df = map_data(df_master=law_df, df_slave=df_converted, col_master_id='refobject_ccode', col_slave_id='Country', \n",
    "         col_master_data='source_unsc_prst', col_slave_data='URL Press Statement',\n",
    "         col_master_year='year_start', col_master_month='month_start', col_slave_date='Date',\n",
    "                      separator_res=' || ', separator_master= ';', separator_slave='||')"
   ]
  },
  {
   "cell_type": "code",
   "execution_count": 362,
   "id": "3e2a811a-efc9-4298-844a-a36dbdef15e5",
   "metadata": {},
   "outputs": [],
   "source": [
    "law_df.to_csv(\"../data_out/int_law - law_dyad.csv\")"
   ]
  },
  {
   "cell_type": "code",
   "execution_count": 256,
   "id": "54f8fb10-6ce5-4bb1-8860-300bff74a038",
   "metadata": {},
   "outputs": [],
   "source": []
  },
  {
   "cell_type": "code",
   "execution_count": 269,
   "id": "c62833fb-7992-46d7-9458-71aa21e15dd0",
   "metadata": {},
   "outputs": [
    {
     "data": {
      "text/plain": [
       "'https://undocs.org/en/S/2021/990 (NOT ADOPTED, consult meeting record: https://undocs.org/en/S/PV.8926)'"
      ]
     },
     "execution_count": 269,
     "metadata": {},
     "output_type": "execute_result"
    }
   ],
   "source": [
    "df_converted['URL Resolution'].dropna().iloc[102]"
   ]
  },
  {
   "cell_type": "code",
   "execution_count": 67,
   "id": "5bcd7fd0-d4b9-4188-9342-5cbf3fbd608c",
   "metadata": {
    "scrolled": true
   },
   "outputs": [
    {
     "data": {
      "text/plain": [
       "Index(['i_dyad_id', 'old_id', 'i_name_en', 'pivot_state', 'coalition',\n",
       "       'refobject', 'refobject_ccode', 'year_start', 'oldsources_lawself',\n",
       "       'oldsources_lawgreat', 'source_unsc_resolution',\n",
       "       'source_unsc_transcript', 'source_court_of_law', 'US_source',\n",
       "       'Russia_source', 'China_source', 'UK_source', 'France_source',\n",
       "       'India_source', 'Germany_source', 'court_of_law', 'ro_source', 'unsc',\n",
       "       'unga'],\n",
       "      dtype='object')"
      ]
     },
     "execution_count": 67,
     "metadata": {},
     "output_type": "execute_result"
    }
   ],
   "source": [
    "law_df.columns"
   ]
  }
 ],
 "metadata": {
  "kernelspec": {
   "display_name": "Python 3 (ipykernel)",
   "language": "python",
   "name": "python3"
  },
  "language_info": {
   "codemirror_mode": {
    "name": "ipython",
    "version": 3
   },
   "file_extension": ".py",
   "mimetype": "text/x-python",
   "name": "python",
   "nbconvert_exporter": "python",
   "pygments_lexer": "ipython3",
   "version": "3.9.18"
  }
 },
 "nbformat": 4,
 "nbformat_minor": 5
}
